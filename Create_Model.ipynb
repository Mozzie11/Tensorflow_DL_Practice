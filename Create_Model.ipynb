{
  "nbformat": 4,
  "nbformat_minor": 0,
  "metadata": {
    "colab": {
      "name": "Untitled2.ipynb",
      "provenance": [],
      "collapsed_sections": [],
      "include_colab_link": true
    },
    "kernelspec": {
      "name": "python3",
      "display_name": "Python 3"
    }
  },
  "cells": [
    {
      "cell_type": "markdown",
      "metadata": {
        "id": "view-in-github",
        "colab_type": "text"
      },
      "source": [
        "<a href=\"https://colab.research.google.com/github/Mozzie11/Tensorflow_DL_Practice/blob/master/Create_Model.ipynb\" target=\"_parent\"><img src=\"https://colab.research.google.com/assets/colab-badge.svg\" alt=\"Open In Colab\"/></a>"
      ]
    },
    {
      "cell_type": "code",
      "metadata": {
        "id": "QFMi-yfuSOtl",
        "colab_type": "code",
        "colab": {
          "base_uri": "https://localhost:8080/",
          "height": 34
        },
        "outputId": "4458c74f-6423-4148-c8e6-5f813610fa31"
      },
      "source": [
        "import tensorflow as tf\n",
        "import numpy as np \n",
        "from tensorflow import keras\n",
        "from tensorflow.keras import layers\n",
        "import matplotlib.pyplot as plt\n",
        "print(tf.__version__)"
      ],
      "execution_count": 1,
      "outputs": [
        {
          "output_type": "stream",
          "text": [
            "1.14.0\n"
          ],
          "name": "stdout"
        }
      ]
    },
    {
      "cell_type": "code",
      "metadata": {
        "id": "XdNmxX3CSUiI",
        "colab_type": "code",
        "colab": {
          "base_uri": "https://localhost:8080/",
          "height": 530
        },
        "outputId": "e61deee0-4bf6-4067-db5a-9da43c0eae63"
      },
      "source": [
        "cnnModel = keras.Sequential()\n",
        "cnnModel.add(layers.Conv2D(input_shape=[28,28,1],filters = 32, kernel_size = 3, strides = 1,\n",
        "                       activation = 'relu'))\n",
        "cnnModel.add(layers.Conv2D(filters = 32, kernel_size = 3, strides = 1,\n",
        "                       activation = 'relu'))\n",
        "cnnModel.add(layers.MaxPool2D(pool_size = 2, strides = 2))\n",
        "cnnModel.add(layers.Conv2D(filters = 64, kernel_size = 3, strides = 1,\n",
        "                       activation = 'relu'))\n",
        "cnnModel.add(layers.Conv2D(filters = 64, kernel_size = 3, strides = 1,\n",
        "                       activation = 'relu'))\n",
        "cnnModel.add(layers.MaxPool2D(pool_size = 2, strides = 2))\n",
        "cnnModel.add(layers.Flatten())\n",
        "cnnModel.add(layers.Dense(units = 512, activation = 'relu'))\n",
        "cnnModel.add(layers.Dense(units = 10, activation = 'softmax'))\n",
        "cnnModel.summary()"
      ],
      "execution_count": 2,
      "outputs": [
        {
          "output_type": "stream",
          "text": [
            "WARNING:tensorflow:From /usr/local/lib/python3.6/dist-packages/tensorflow/python/ops/init_ops.py:1251: calling VarianceScaling.__init__ (from tensorflow.python.ops.init_ops) with dtype is deprecated and will be removed in a future version.\n",
            "Instructions for updating:\n",
            "Call initializer instance with the dtype argument instead of passing it to the constructor\n",
            "Model: \"sequential\"\n",
            "_________________________________________________________________\n",
            "Layer (type)                 Output Shape              Param #   \n",
            "=================================================================\n",
            "conv2d (Conv2D)              (None, 26, 26, 32)        320       \n",
            "_________________________________________________________________\n",
            "conv2d_1 (Conv2D)            (None, 24, 24, 32)        9248      \n",
            "_________________________________________________________________\n",
            "max_pooling2d (MaxPooling2D) (None, 12, 12, 32)        0         \n",
            "_________________________________________________________________\n",
            "conv2d_2 (Conv2D)            (None, 10, 10, 64)        18496     \n",
            "_________________________________________________________________\n",
            "conv2d_3 (Conv2D)            (None, 8, 8, 64)          36928     \n",
            "_________________________________________________________________\n",
            "max_pooling2d_1 (MaxPooling2 (None, 4, 4, 64)          0         \n",
            "_________________________________________________________________\n",
            "flatten (Flatten)            (None, 1024)              0         \n",
            "_________________________________________________________________\n",
            "dense (Dense)                (None, 512)               524800    \n",
            "_________________________________________________________________\n",
            "dense_1 (Dense)              (None, 10)                5130      \n",
            "=================================================================\n",
            "Total params: 594,922\n",
            "Trainable params: 594,922\n",
            "Non-trainable params: 0\n",
            "_________________________________________________________________\n"
          ],
          "name": "stdout"
        }
      ]
    },
    {
      "cell_type": "code",
      "metadata": {
        "id": "T5J1jbnWSV_m",
        "colab_type": "code",
        "colab": {
          "base_uri": "https://localhost:8080/",
          "height": 493
        },
        "outputId": "4f27512b-dec1-448f-97b5-e8fac1ba7437"
      },
      "source": [
        "inputs = tf.keras.Input(shape=(28,28,1))  # Returns a placeholder tensor\n",
        "x = layers.Conv2D(filters = 32, kernel_size = 3, strides = 1,\n",
        "                       activation = 'relu')(inputs)\n",
        "x = layers.Conv2D(filters = 32, kernel_size = 3, strides = 1,\n",
        "                       activation = 'relu')(x)\n",
        "x = layers.MaxPool2D(pool_size = 2, strides = 2)(x)\n",
        "x = layers.Conv2D(filters = 64, kernel_size = 3, strides = 1,\n",
        "                       activation = 'relu')(x)\n",
        "x = layers.Conv2D(filters = 64, kernel_size = 3, strides = 1,\n",
        "                       activation = 'relu')(x)\n",
        "x = layers.MaxPool2D(pool_size = 2, strides = 2)(x)\n",
        "x = layers.Flatten()(x)\n",
        "x = layers.Dense(units = 512, activation = 'relu')(x)\n",
        "predictions = layers.Dense(units = 10, activation = 'softmax')(x)\n",
        "cnnModel = tf.keras.Model(inputs=inputs, outputs=predictions)\n",
        "cnnModel.summary()"
      ],
      "execution_count": 3,
      "outputs": [
        {
          "output_type": "stream",
          "text": [
            "Model: \"model\"\n",
            "_________________________________________________________________\n",
            "Layer (type)                 Output Shape              Param #   \n",
            "=================================================================\n",
            "input_1 (InputLayer)         [(None, 28, 28, 1)]       0         \n",
            "_________________________________________________________________\n",
            "conv2d_4 (Conv2D)            (None, 26, 26, 32)        320       \n",
            "_________________________________________________________________\n",
            "conv2d_5 (Conv2D)            (None, 24, 24, 32)        9248      \n",
            "_________________________________________________________________\n",
            "max_pooling2d_2 (MaxPooling2 (None, 12, 12, 32)        0         \n",
            "_________________________________________________________________\n",
            "conv2d_6 (Conv2D)            (None, 10, 10, 64)        18496     \n",
            "_________________________________________________________________\n",
            "conv2d_7 (Conv2D)            (None, 8, 8, 64)          36928     \n",
            "_________________________________________________________________\n",
            "max_pooling2d_3 (MaxPooling2 (None, 4, 4, 64)          0         \n",
            "_________________________________________________________________\n",
            "flatten_1 (Flatten)          (None, 1024)              0         \n",
            "_________________________________________________________________\n",
            "dense_2 (Dense)              (None, 512)               524800    \n",
            "_________________________________________________________________\n",
            "dense_3 (Dense)              (None, 10)                5130      \n",
            "=================================================================\n",
            "Total params: 594,922\n",
            "Trainable params: 594,922\n",
            "Non-trainable params: 0\n",
            "_________________________________________________________________\n"
          ],
          "name": "stdout"
        }
      ]
    },
    {
      "cell_type": "code",
      "metadata": {
        "id": "SVwGqTUtSeUe",
        "colab_type": "code",
        "colab": {
          "base_uri": "https://localhost:8080/",
          "height": 425
        },
        "outputId": "c66ae647-c9e5-439e-da8f-af2e2219b9f7"
      },
      "source": [
        "class CNNModel(tf.keras.Model):\n",
        "    def __init__(self):\n",
        "        super(CNNModel, self).__init__(name='my_model')\n",
        "        # Define your layers here.\n",
        "        self.conv1 = layers.Conv2D( filters = 32, kernel_size = 3, strides = 1,\n",
        "                           activation = 'relu')\n",
        "        self.conv2 = layers.Conv2D(filters = 32, kernel_size = 3, strides = 1,\n",
        "                           activation = 'relu')\n",
        "        self.maxpool1 = layers.MaxPool2D(pool_size = 2, strides = 2)\n",
        "        self.conv3 = layers.Conv2D(filters = 64, kernel_size = 3, strides = 1,\n",
        "                           activation = 'relu')\n",
        "        self.conv4 = layers.Conv2D(filters = 64, kernel_size = 3, strides = 1,\n",
        "                           activation = 'relu')\n",
        "        self.maxpool2 = layers.MaxPool2D(pool_size = 2, strides = 2)\n",
        "        self.dense1 = layers.Dense(units = 512, activation = 'relu')\n",
        "        self.dense2 = layers.Dense(units = 10, activation = 'softmax')\n",
        "\n",
        "    def call(self, inputs):\n",
        "        # Define your forward pass here,\n",
        "        # using layers you previously defined (in `__init__`).\n",
        "        x = self.conv1(inputs)\n",
        "        x = self.conv2(x)\n",
        "        x = self.maxpool1(x)\n",
        "        x = self.conv3(x)\n",
        "        x = self.conv4(x)\n",
        "        x = self.maxpool2(x)\n",
        "        x = layers.Flatten()(x)\n",
        "        x = self.dense1(x)\n",
        "        predictions = self.dense2(x)\n",
        "        return predictions\n",
        "cnnModel = CNNModel()\n",
        "cnnModel.build((10,28,28,1))\n",
        "cnnModel.summary()"
      ],
      "execution_count": 4,
      "outputs": [
        {
          "output_type": "stream",
          "text": [
            "Model: \"my_model\"\n",
            "_________________________________________________________________\n",
            "Layer (type)                 Output Shape              Param #   \n",
            "=================================================================\n",
            "conv2d_8 (Conv2D)            multiple                  320       \n",
            "_________________________________________________________________\n",
            "conv2d_9 (Conv2D)            multiple                  9248      \n",
            "_________________________________________________________________\n",
            "max_pooling2d_4 (MaxPooling2 multiple                  0         \n",
            "_________________________________________________________________\n",
            "conv2d_10 (Conv2D)           multiple                  18496     \n",
            "_________________________________________________________________\n",
            "conv2d_11 (Conv2D)           multiple                  36928     \n",
            "_________________________________________________________________\n",
            "max_pooling2d_5 (MaxPooling2 multiple                  0         \n",
            "_________________________________________________________________\n",
            "dense_4 (Dense)              multiple                  524800    \n",
            "_________________________________________________________________\n",
            "dense_5 (Dense)              multiple                  5130      \n",
            "=================================================================\n",
            "Total params: 594,922\n",
            "Trainable params: 594,922\n",
            "Non-trainable params: 0\n",
            "_________________________________________________________________\n"
          ],
          "name": "stdout"
        }
      ]
    }
  ]
}